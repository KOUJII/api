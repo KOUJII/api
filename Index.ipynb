{
 "cells": [
  {
   "cell_type": "markdown",
   "metadata": {},
   "source": [
    "## 年龄、性别、眼镜、最可能的三种情绪"
   ]
  },
  {
   "cell_type": "code",
   "execution_count": 1,
   "metadata": {
    "collapsed": true
   },
   "outputs": [],
   "source": [
    "def microsoft_face(base_url, key, img_url):\n",
    "    import requests\n",
    "    import json\n",
    "    # 沿用API的示范代码，{subscription key}用KEY代入\n",
    "    headers = {\n",
    "        # Request headers\n",
    "        'Content-Type': 'application/json',\n",
    "        'Ocp-Apim-Subscription-Key': '{}'.format(key),\n",
    "    }\n",
    "    # URL中 符号?以后\n",
    "    data = {\n",
    "        'url': '{}'.format(img_url),\n",
    "    }\n",
    "    payload = {\n",
    "        'returnFaceId': 'true',\n",
    "        'returnFaceLandmarks': 'false',\n",
    "        'returnFaceAttributes': 'age,gender,glasses,emotion', \n",
    "    }\n",
    "\n",
    "    r = requests.post(base_url, data=json.dumps(data), params=payload, headers=headers)\n",
    "\n",
    "    return (r.json())"
   ]
  },
  {
   "cell_type": "code",
   "execution_count": 2,
   "metadata": {},
   "outputs": [],
   "source": [
    "def face_analysis(result):\n",
    "    count = 1\n",
    "    for x in result:\n",
    "        emotion = sorted(result[int('{count}'.format(count = count - 1))]['faceAttributes']['emotion'].items(),key = lambda d:d[1] , reverse=True)\n",
    "        print('第', '{}'.format(count), '个人', '：', '年龄：', int(x['faceAttributes']['age']), '性别：', x['faceAttributes']['gender'], '眼镜：', x['faceAttributes']['glasses'])\n",
    "        print(' ' * 12, '情绪：', emotion[0], emotion[1], emotion[2])\n",
    "        print('\\r')\n",
    "        count += 1"
   ]
  },
  {
   "cell_type": "code",
   "execution_count": 3,
   "metadata": {
    "collapsed": true
   },
   "outputs": [],
   "source": [
    "# 基底URL, URL中 符号?以前\n",
    "base_url = 'https://api.cognitive.azure.cn/face/v1.0/detect' \n",
    "\n",
    "# API KEY 不要用別人的!\n",
    "key = '128a8217e91c4a58b3721e9660044f34'  # Replace with a valid Subscription Key here.\n",
    "\n",
    "# 输入的圖片\n",
    "img_url = 'https://timgsa.baidu.com/timg?image&quality=80&size=b9999_10000&sec=1536655525057&di=5df7110cf4e3fe637691678692b7e1f7&imgtype=0&src=http%3A%2F%2Fimgsrc.baidu.com%2Fimage%2Fc0%253Dpixel_huitu%252C0%252C0%252C294%252C40%2Fsign%3D366ea1f9fc36afc31a013725da618ea8%2F267f9e2f070828382a11302db399a9014c08f1ef.jpg'"
   ]
  },
  {
   "cell_type": "code",
   "execution_count": 4,
   "metadata": {},
   "outputs": [
    {
     "name": "stdout",
     "output_type": "stream",
     "text": [
      "第 1 个人 ： 年龄： 32 性别： female 眼镜： NoGlasses\n",
      "             情绪： ('happiness', 1.0) ('anger', 0.0) ('contempt', 0.0)\n",
      "\r\n",
      "第 2 个人 ： 年龄： 29 性别： male 眼镜： NoGlasses\n",
      "             情绪： ('happiness', 1.0) ('anger', 0.0) ('contempt', 0.0)\n",
      "\r\n",
      "第 3 个人 ： 年龄： 29 性别： female 眼镜： NoGlasses\n",
      "             情绪： ('happiness', 1.0) ('anger', 0.0) ('contempt', 0.0)\n",
      "\r\n",
      "第 4 个人 ： 年龄： 45 性别： male 眼镜： NoGlasses\n",
      "             情绪： ('happiness', 1.0) ('anger', 0.0) ('contempt', 0.0)\n",
      "\r\n",
      "第 5 个人 ： 年龄： 41 性别： male 眼镜： NoGlasses\n",
      "             情绪： ('happiness', 1.0) ('anger', 0.0) ('contempt', 0.0)\n",
      "\r\n"
     ]
    }
   ],
   "source": [
    "face_analysis(microsoft_face(base_url, key, img_url))"
   ]
  },
  {
   "cell_type": "code",
   "execution_count": null,
   "metadata": {
    "collapsed": true
   },
   "outputs": [],
   "source": []
  }
 ],
 "metadata": {
  "kernelspec": {
   "display_name": "Python 3",
   "language": "python",
   "name": "python3"
  },
  "language_info": {
   "codemirror_mode": {
    "name": "ipython",
    "version": 3
   },
   "file_extension": ".py",
   "mimetype": "text/x-python",
   "name": "python",
   "nbconvert_exporter": "python",
   "pygments_lexer": "ipython3",
   "version": "3.6.2"
  }
 },
 "nbformat": 4,
 "nbformat_minor": 2
}
